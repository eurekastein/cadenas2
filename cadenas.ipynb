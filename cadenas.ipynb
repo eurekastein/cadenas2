{
 "cells": [
  {
   "cell_type": "markdown",
   "metadata": {},
   "source": [
    "### Suposiciones\n",
    "- La red es fija y la tabla se llama red\n",
    "- La tabla de vértices se llama red_vertices_pgr\n",
    "- tiene una columna que se llama costo\n",
    "- tiene campos source y target\n",
    "- todas las columnas de geometría se llaman geom"
   ]
  },
  {
   "cell_type": "markdown",
   "metadata": {},
   "source": [
    "Primero todos los imports"
   ]
  },
  {
   "cell_type": "code",
   "execution_count": 1,
   "metadata": {},
   "outputs": [],
   "source": [
    "import psycopg2\n",
    "from sqlalchemy import create_engine\n",
    "import pandas as pd\n",
    "from functools import reduce\n",
    "import geopandas as gpd\n",
    "import numpy as np\n",
    "import matplotlib.pyplot as plt\n",
    "import rasterio\n",
    "from rasterio.transform import from_origin\n",
    "import io\n",
    "from subprocess import call\n"
   ]
  },
  {
   "cell_type": "markdown",
   "metadata": {},
   "source": [
    "### Parámetros de la conexión\n",
    "Aquí servidor, usuario, password y base de datos están fijos, en realidad hay que resolver cómo funciona esto en la aplicación"
   ]
  },
  {
   "cell_type": "code",
   "execution_count": 2,
   "metadata": {},
   "outputs": [],
   "source": [
    "db = 'cadenas'\n",
    "usr = 'postgres' \n",
    "psw = 'postgres' \n",
    "host = '192.168.18.22'"
   ]
  },
  {
   "cell_type": "code",
   "execution_count": 3,
   "metadata": {},
   "outputs": [],
   "source": [
    "con = psycopg2.connect(database= db, user=usr, password=psw, host=host)\n",
    "engine = create_engine('postgresql://{}:{}@{}:5432/{}'.format(usr,psw,host,db))"
   ]
  },
  {
   "cell_type": "markdown",
   "metadata": {},
   "source": [
    "### Etapas de la cadena\n",
    "Variable con los nombre de las tablas de etapas. Esta tiene que venir de la interfase"
   ]
  },
  {
   "cell_type": "code",
   "execution_count": 4,
   "metadata": {},
   "outputs": [],
   "source": [
    "etapas = ['etapa1', 'etapa2', 'etapa3', 'etapa4' ]"
   ]
  },
  {
   "cell_type": "markdown",
   "metadata": {},
   "source": [
    "### Relaciones entre nodos y etapas\n",
    "\n",
    "Asignar a cada punto de cada etapa el nodo más cercano de la red. Se crean las tablas con las relaciones:`etapa_i_node`, cada tabla tiene dos columnas, el id de la tabla de etapas y el id de la tabla de nodos.\n"
   ]
  },
  {
   "cell_type": "code",
   "execution_count": 5,
   "metadata": {},
   "outputs": [],
   "source": [
    "def node_relations(table, engine, connection):\n",
    "    \"\"\"Toma una tabla de puntos y le agrega una columna con el id del\n",
    "       nodo más cercano de la red.\n",
    "       Elimina la tabla de relaciones en caso de que exista.\n",
    "       Regresa el dataframe con la relación.\n",
    "    \"\"\"\n",
    "    drop_qry = \"\"\"drop table if exists %(tabla)s_node\"\"\" % {\"tabla\": table}\n",
    "    curs = connection.cursor()\n",
    "    curs.execute(drop_qry)\n",
    "    connection.commit()\n",
    "    sql = \"\"\"\n",
    "            select f.id as id_%(tabla)s, (\n",
    "              SELECT n.id\n",
    "              FROM red_vertices_pgr As n\n",
    "              ORDER BY f.geom <-> n.geom LIMIT 1\n",
    "            )as closest_node\n",
    "            from %(tabla)s f\n",
    "          \"\"\" % {\"tabla\": table}\n",
    "    try:\n",
    "        df = pd.read_sql(sql, engine)\n",
    "    except ValueError as e:\n",
    "        print(e)\n",
    "    try:\n",
    "        df.to_sql(table + '_node', engine)\n",
    "    except ValueError as e:\n",
    "        print(e)\n",
    "    return df"
   ]
  },
  {
   "cell_type": "markdown",
   "metadata": {},
   "source": [
    "Entonces, para agregar todas las tablas de relaciones hacemos:"
   ]
  },
  {
   "cell_type": "code",
   "execution_count": 6,
   "metadata": {},
   "outputs": [],
   "source": [
    "node_relations_list = []\n",
    "for etapa in etapas:\n",
    "    node_relations_list.append(node_relations(etapa, engine, con))"
   ]
  },
  {
   "cell_type": "code",
   "execution_count": 8,
   "metadata": {},
   "outputs": [
    {
     "data": {
      "text/html": [
       "<div>\n",
       "<style scoped>\n",
       "    .dataframe tbody tr th:only-of-type {\n",
       "        vertical-align: middle;\n",
       "    }\n",
       "\n",
       "    .dataframe tbody tr th {\n",
       "        vertical-align: top;\n",
       "    }\n",
       "\n",
       "    .dataframe thead th {\n",
       "        text-align: right;\n",
       "    }\n",
       "</style>\n",
       "<table border=\"1\" class=\"dataframe\">\n",
       "  <thead>\n",
       "    <tr style=\"text-align: right;\">\n",
       "      <th></th>\n",
       "      <th>id_etapa4</th>\n",
       "      <th>closest_node</th>\n",
       "    </tr>\n",
       "  </thead>\n",
       "  <tbody>\n",
       "    <tr>\n",
       "      <th>0</th>\n",
       "      <td>1</td>\n",
       "      <td>6156</td>\n",
       "    </tr>\n",
       "    <tr>\n",
       "      <th>1</th>\n",
       "      <td>2</td>\n",
       "      <td>1626</td>\n",
       "    </tr>\n",
       "    <tr>\n",
       "      <th>2</th>\n",
       "      <td>3</td>\n",
       "      <td>2827</td>\n",
       "    </tr>\n",
       "    <tr>\n",
       "      <th>3</th>\n",
       "      <td>4</td>\n",
       "      <td>5319</td>\n",
       "    </tr>\n",
       "    <tr>\n",
       "      <th>4</th>\n",
       "      <td>5</td>\n",
       "      <td>13025</td>\n",
       "    </tr>\n",
       "  </tbody>\n",
       "</table>\n",
       "</div>"
      ],
      "text/plain": [
       "   id_etapa4  closest_node\n",
       "0          1          6156\n",
       "1          2          1626\n",
       "2          3          2827\n",
       "3          4          5319\n",
       "4          5         13025"
      ]
     },
     "execution_count": 8,
     "metadata": {},
     "output_type": "execute_result"
    }
   ],
   "source": [
    "node_relations_list[-1].head()"
   ]
  },
  {
   "cell_type": "markdown",
   "metadata": {},
   "source": [
    "### Costos por etapa\n",
    "\n",
    "Primero la función que calcula el costo entre etapas sucesivas (esto asume que la lista de etapas está ordenada)"
   ]
  },
  {
   "cell_type": "code",
   "execution_count": 9,
   "metadata": {},
   "outputs": [],
   "source": [
    "def stage_cost(source_table, target_table, cost_column):\n",
    "    params = {'source': source_table, 'target': target_table, 'cost': cost_column }\n",
    "    qry_str = \"\"\"SELECT DISTINCT ON (start_vid)\n",
    "                 start_vid, end_vid, agg_cost as costo_%(source)s_%(target)s\n",
    "          FROM   (SELECT * FROM pgr_dijkstraCost(\n",
    "              'select id, source, target, %(cost)s as cost from red',\n",
    "              array(select distinct(s.closest_node) from (select e.*, r.closest_node\n",
    "                                                        from %(source)s e\n",
    "                                                        join %(source)s_node r\n",
    "                                                        on e.id = r.id_%(source)s::int) as s),\n",
    "              array(select distinct(t.closest_node) from (select e.*, r.closest_node\n",
    "                                                        from %(target)s e\n",
    "                                                        join %(target)s_node r\n",
    "                                                        on e.id = r.id_%(target)s::int) as t),\n",
    "                 directed:=false)\n",
    "          ) as sub\n",
    "          ORDER  BY start_vid, agg_cost asc\"\"\" % params\n",
    "    try:\n",
    "        df = pd.read_sql(qry_str, engine)\n",
    "    except ValueError as e:\n",
    "        print(e)\n",
    "    return df"
   ]
  },
  {
   "cell_type": "markdown",
   "metadata": {},
   "source": [
    "Para calcular la distancia entre dos etapas hacemos:"
   ]
  },
  {
   "cell_type": "code",
   "execution_count": 10,
   "metadata": {},
   "outputs": [
    {
     "data": {
      "text/html": [
       "<div>\n",
       "<style scoped>\n",
       "    .dataframe tbody tr th:only-of-type {\n",
       "        vertical-align: middle;\n",
       "    }\n",
       "\n",
       "    .dataframe tbody tr th {\n",
       "        vertical-align: top;\n",
       "    }\n",
       "\n",
       "    .dataframe thead th {\n",
       "        text-align: right;\n",
       "    }\n",
       "</style>\n",
       "<table border=\"1\" class=\"dataframe\">\n",
       "  <thead>\n",
       "    <tr style=\"text-align: right;\">\n",
       "      <th></th>\n",
       "      <th>start_vid</th>\n",
       "      <th>end_vid</th>\n",
       "      <th>costo_etapa1_etapa2</th>\n",
       "    </tr>\n",
       "  </thead>\n",
       "  <tbody>\n",
       "    <tr>\n",
       "      <th>0</th>\n",
       "      <td>412</td>\n",
       "      <td>1851</td>\n",
       "      <td>268660.672500</td>\n",
       "    </tr>\n",
       "    <tr>\n",
       "      <th>1</th>\n",
       "      <td>459</td>\n",
       "      <td>1851</td>\n",
       "      <td>223833.071148</td>\n",
       "    </tr>\n",
       "    <tr>\n",
       "      <th>2</th>\n",
       "      <td>467</td>\n",
       "      <td>1851</td>\n",
       "      <td>233672.559784</td>\n",
       "    </tr>\n",
       "    <tr>\n",
       "      <th>3</th>\n",
       "      <td>638</td>\n",
       "      <td>11230</td>\n",
       "      <td>100905.641581</td>\n",
       "    </tr>\n",
       "    <tr>\n",
       "      <th>4</th>\n",
       "      <td>639</td>\n",
       "      <td>11230</td>\n",
       "      <td>105890.189821</td>\n",
       "    </tr>\n",
       "  </tbody>\n",
       "</table>\n",
       "</div>"
      ],
      "text/plain": [
       "   start_vid  end_vid  costo_etapa1_etapa2\n",
       "0        412     1851        268660.672500\n",
       "1        459     1851        223833.071148\n",
       "2        467     1851        233672.559784\n",
       "3        638    11230        100905.641581\n",
       "4        639    11230        105890.189821"
      ]
     },
     "execution_count": 10,
     "metadata": {},
     "output_type": "execute_result"
    }
   ],
   "source": [
    "d0 = stage_cost(\"etapa1\", \"etapa2\", \"costo\")\n",
    "d0.head()"
   ]
  },
  {
   "cell_type": "markdown",
   "metadata": {},
   "source": [
    "Y para calcular todas las distancias:"
   ]
  },
  {
   "cell_type": "code",
   "execution_count": 11,
   "metadata": {},
   "outputs": [],
   "source": [
    "distancias = []\n",
    "for i, etapa in enumerate(etapas): \n",
    "    if i < len(etapas)-1:\n",
    "        distancias.append(stage_cost(etapa,etapas[i+1], \"costo\"))"
   ]
  },
  {
   "cell_type": "code",
   "execution_count": 17,
   "metadata": {},
   "outputs": [
    {
     "data": {
      "text/plain": [
       "1676"
      ]
     },
     "execution_count": 17,
     "metadata": {},
     "output_type": "execute_result"
    }
   ],
   "source": [
    "len(distancias[0])#.head()"
   ]
  },
  {
   "cell_type": "markdown",
   "metadata": {},
   "source": [
    "Ahora hay que unir cada resultado a la geometría que le corresponde, esto es:\n",
    "\n",
    "- etapa1 -> costo de 1 a 2\n",
    "- etapa2 -> costo de 2 a 3\n",
    "- etapa(k-1) -> costo de k-1 a k\n",
    "\n",
    "Primero leemos los datos originales"
   ]
  },
  {
   "cell_type": "code",
   "execution_count": 18,
   "metadata": {},
   "outputs": [
    {
     "data": {
      "text/html": [
       "<div>\n",
       "<style scoped>\n",
       "    .dataframe tbody tr th:only-of-type {\n",
       "        vertical-align: middle;\n",
       "    }\n",
       "\n",
       "    .dataframe tbody tr th {\n",
       "        vertical-align: top;\n",
       "    }\n",
       "\n",
       "    .dataframe thead th {\n",
       "        text-align: right;\n",
       "    }\n",
       "</style>\n",
       "<table border=\"1\" class=\"dataframe\">\n",
       "  <thead>\n",
       "    <tr style=\"text-align: right;\">\n",
       "      <th></th>\n",
       "      <th>id_0</th>\n",
       "      <th>geom</th>\n",
       "      <th>id</th>\n",
       "      <th>id_ac</th>\n",
       "    </tr>\n",
       "  </thead>\n",
       "  <tbody>\n",
       "    <tr>\n",
       "      <th>0</th>\n",
       "      <td>1</td>\n",
       "      <td>POINT (645736.3108251573 1808481.380637101)</td>\n",
       "      <td>1737</td>\n",
       "      <td>07052028-2002</td>\n",
       "    </tr>\n",
       "    <tr>\n",
       "      <th>1</th>\n",
       "      <td>2</td>\n",
       "      <td>POINT (520212.1233636757 1896539.235540587)</td>\n",
       "      <td>1</td>\n",
       "      <td>07118002-1011</td>\n",
       "    </tr>\n",
       "    <tr>\n",
       "      <th>2</th>\n",
       "      <td>3</td>\n",
       "      <td>POINT (551019.6914652064 1860672.211684213)</td>\n",
       "      <td>2</td>\n",
       "      <td>07093002-0001</td>\n",
       "    </tr>\n",
       "    <tr>\n",
       "      <th>3</th>\n",
       "      <td>4</td>\n",
       "      <td>POINT (587381.6952086436 1652313.728707811)</td>\n",
       "      <td>3</td>\n",
       "      <td>07102002-1010</td>\n",
       "    </tr>\n",
       "    <tr>\n",
       "      <th>4</th>\n",
       "      <td>5</td>\n",
       "      <td>POINT (552043.9602639768 1892579.33194623)</td>\n",
       "      <td>4</td>\n",
       "      <td>07081003-4012</td>\n",
       "    </tr>\n",
       "  </tbody>\n",
       "</table>\n",
       "</div>"
      ],
      "text/plain": [
       "   id_0                                         geom    id          id_ac\n",
       "0     1  POINT (645736.3108251573 1808481.380637101)  1737  07052028-2002\n",
       "1     2  POINT (520212.1233636757 1896539.235540587)     1  07118002-1011\n",
       "2     3  POINT (551019.6914652064 1860672.211684213)     2  07093002-0001\n",
       "3     4  POINT (587381.6952086436 1652313.728707811)     3  07102002-1010\n",
       "4     5   POINT (552043.9602639768 1892579.33194623)     4  07081003-4012"
      ]
     },
     "execution_count": 18,
     "metadata": {},
     "output_type": "execute_result"
    }
   ],
   "source": [
    "etapas_gdfs = []\n",
    "for etapa in etapas:\n",
    "    sql = \"\"\"select * from %(etapa)s\"\"\" % {\"etapa\":etapa}\n",
    "    etapas_gdfs.append(gpd.GeoDataFrame.from_postgis(sql, con, geom_col='geom'))\n",
    "#etapas_gdfs[0].head()"
   ]
  },
  {
   "cell_type": "markdown",
   "metadata": {},
   "source": [
    "Luego, para todas las etapas, menos la última, unimos las geometrías con los costos. Pero primero a través de las relaciones entre nodos y etapas:"
   ]
  },
  {
   "cell_type": "code",
   "execution_count": 19,
   "metadata": {},
   "outputs": [],
   "source": [
    "etapas_costo = []\n",
    "for i, (etapa,relacion) in enumerate(zip(etapas, node_relations_list)):\n",
    "    if i < len(node_relations_list) - 1:\n",
    "        etapas_costo.append(pd.merge(relacion, distancias[i], \n",
    "                                     left_on='closest_node', \n",
    "                                     right_on='start_vid', how='right'))       "
   ]
  },
  {
   "cell_type": "markdown",
   "metadata": {},
   "source": [
    "Creamos una lista de GeoDataFrames con los costos por etapa"
   ]
  },
  {
   "cell_type": "code",
   "execution_count": 20,
   "metadata": {},
   "outputs": [
    {
     "data": {
      "text/plain": [
       "3"
      ]
     },
     "execution_count": 20,
     "metadata": {},
     "output_type": "execute_result"
    }
   ],
   "source": [
    "gdfs_costo = []\n",
    "for i, (etapa, costo) in enumerate(zip(etapas[0:-1], etapas_costo)):\n",
    "    gdfs_costo.append(pd.merge(etapas_gdfs[i], costo, left_on='id', right_on='id_' + etapa, how='right'))"
   ]
  },
  {
   "cell_type": "markdown",
   "metadata": {},
   "source": [
    "Ahora creamos un nuevo geoDataframe con valores de los costos por etapa y total"
   ]
  },
  {
   "cell_type": "code",
   "execution_count": 30,
   "metadata": {},
   "outputs": [
    {
     "data": {
      "text/plain": [
       "2647"
      ]
     },
     "execution_count": 30,
     "metadata": {},
     "output_type": "execute_result"
    }
   ],
   "source": [
    "costos_totales = reduce(lambda x, y,: pd.merge(x, y, left_on='end_vid', \n",
    "                                               right_on='start_vid', \n",
    "                                               how='left',\n",
    "                                               suffixes=['','_y']), gdfs_costo)\n",
    "#costos_totales = reduce(lambda x, y: pd.merge(x, y, left_on='start_vid', right_on='end_vid', how='right'), gdfs_costo)\n",
    "#costos_totales[\"cost_tot\"] = costos_totales.iloc[:, costos_totales.columns.str.contains('costo_')].sum(1)\n",
    "#pd.merge(gdfs_costo[0],gdfs_costo[1],left_on='end_vid', \n",
    " #        right_on='start_vid', \n",
    "  #       how='left',\n",
    "  #       suffixes=['','_y']).head()"
   ]
  },
  {
   "cell_type": "code",
   "execution_count": 24,
   "metadata": {},
   "outputs": [
    {
     "name": "stdout",
     "output_type": "stream",
     "text": [
      "costo_etapa1_etapa2\n",
      "costo_etapa2_etapa3\n",
      "costo_etapa3_etapa4\n"
     ]
    }
   ],
   "source": [
    "for i,etapa in enumerate(etapas[:-1]):\n",
    "    costos_totales[\"cost_\"+etapas[0] + \"_\" + etapas[i+1]] = \\\n",
    "    costos_totales.iloc[:, costos_totales.columns.str.contains('costo_')].sum(1)\n",
    "    print(\"costo_\" + etapa + \"_\" + etapas[i+1])"
   ]
  },
  {
   "cell_type": "code",
   "execution_count": 25,
   "metadata": {},
   "outputs": [
    {
     "data": {
      "text/plain": [
       "2647"
      ]
     },
     "execution_count": 25,
     "metadata": {},
     "output_type": "execute_result"
    }
   ],
   "source": [
    "nuevas_columnas = [c for c in costos_totales.columns if c.startswith(\"costo\")]\n",
    "nuevas_columnas = [\"id_\" + etapas[0], \"geom\"] + nuevas_columnas \n",
    "solo_costos = costos_totales[nuevas_columnas]\n",
    "len(solo_costos)"
   ]
  },
  {
   "cell_type": "code",
   "execution_count": 46,
   "metadata": {},
   "outputs": [
    {
     "name": "stderr",
     "output_type": "stream",
     "text": [
      "/home/eurekastein/anaconda3/envs/cadenas/lib/python3.6/site-packages/geopandas/io/file.py:108: FionaDeprecationWarning: Use fiona.Env() instead.\n",
      "  with fiona.drivers():\n",
      "CPLE_NotSupported in Normalized/laundered field name: 'costo_etapa1_etapa2' to 'costo_etap'\n",
      "CPLE_NotSupported in Normalized/laundered field name: 'costo_etapa2_etapa3' to 'costo_et_1'\n",
      "CPLE_NotSupported in Normalized/laundered field name: 'costo_etapa3_etapa4' to 'costo_et_2'\n"
     ]
    },
    {
     "ename": "ValueError",
     "evalue": "Invalid field type <class 'shapely.geometry.point.Point'>",
     "output_type": "error",
     "traceback": [
      "\u001b[0;31m---------------------------------------------------------------------------\u001b[0m",
      "\u001b[0;31mValueError\u001b[0m                                Traceback (most recent call last)",
      "\u001b[0;32m<ipython-input-46-c0bba817770e>\u001b[0m in \u001b[0;36m<module>\u001b[0;34m()\u001b[0m\n\u001b[1;32m      3\u001b[0m \u001b[0msumas_acumuladas\u001b[0m \u001b[0;34m=\u001b[0m \u001b[0mgpd\u001b[0m\u001b[0;34m.\u001b[0m\u001b[0mGeoDataFrame\u001b[0m\u001b[0;34m(\u001b[0m\u001b[0msumas_acumuladas\u001b[0m\u001b[0;34m,\u001b[0m \u001b[0mgeometry\u001b[0m \u001b[0;34m=\u001b[0m \u001b[0msumas_acumuladas\u001b[0m\u001b[0;34m.\u001b[0m\u001b[0mgeom\u001b[0m\u001b[0;34m)\u001b[0m\u001b[0;34m\u001b[0m\u001b[0m\n\u001b[1;32m      4\u001b[0m sumas_acumuladas.to_file(driver= 'ESRI Shapefile', \n\u001b[0;32m----> 5\u001b[0;31m                          filename= \"/home/eurekastein/Documentos/cadenas.py/idw/result.shp\") \n\u001b[0m",
      "\u001b[0;32m~/anaconda3/envs/cadenas/lib/python3.6/site-packages/geopandas/geodataframe.py\u001b[0m in \u001b[0;36mto_file\u001b[0;34m(self, filename, driver, schema, **kwargs)\u001b[0m\n\u001b[1;32m    411\u001b[0m         \"\"\"\n\u001b[1;32m    412\u001b[0m         \u001b[0;32mfrom\u001b[0m \u001b[0mgeopandas\u001b[0m\u001b[0;34m.\u001b[0m\u001b[0mio\u001b[0m\u001b[0;34m.\u001b[0m\u001b[0mfile\u001b[0m \u001b[0;32mimport\u001b[0m \u001b[0mto_file\u001b[0m\u001b[0;34m\u001b[0m\u001b[0m\n\u001b[0;32m--> 413\u001b[0;31m         \u001b[0mto_file\u001b[0m\u001b[0;34m(\u001b[0m\u001b[0mself\u001b[0m\u001b[0;34m,\u001b[0m \u001b[0mfilename\u001b[0m\u001b[0;34m,\u001b[0m \u001b[0mdriver\u001b[0m\u001b[0;34m,\u001b[0m \u001b[0mschema\u001b[0m\u001b[0;34m,\u001b[0m \u001b[0;34m**\u001b[0m\u001b[0mkwargs\u001b[0m\u001b[0;34m)\u001b[0m\u001b[0;34m\u001b[0m\u001b[0m\n\u001b[0m\u001b[1;32m    414\u001b[0m \u001b[0;34m\u001b[0m\u001b[0m\n\u001b[1;32m    415\u001b[0m     \u001b[0;32mdef\u001b[0m \u001b[0mto_crs\u001b[0m\u001b[0;34m(\u001b[0m\u001b[0mself\u001b[0m\u001b[0;34m,\u001b[0m \u001b[0mcrs\u001b[0m\u001b[0;34m=\u001b[0m\u001b[0;32mNone\u001b[0m\u001b[0;34m,\u001b[0m \u001b[0mepsg\u001b[0m\u001b[0;34m=\u001b[0m\u001b[0;32mNone\u001b[0m\u001b[0;34m,\u001b[0m \u001b[0minplace\u001b[0m\u001b[0;34m=\u001b[0m\u001b[0;32mFalse\u001b[0m\u001b[0;34m)\u001b[0m\u001b[0;34m:\u001b[0m\u001b[0;34m\u001b[0m\u001b[0m\n",
      "\u001b[0;32m~/anaconda3/envs/cadenas/lib/python3.6/site-packages/geopandas/io/file.py\u001b[0m in \u001b[0;36mto_file\u001b[0;34m(df, filename, driver, schema, **kwargs)\u001b[0m\n\u001b[1;32m    109\u001b[0m         with fiona.open(filename, 'w', driver=driver, crs=df.crs,\n\u001b[1;32m    110\u001b[0m                         schema=schema, **kwargs) as colxn:\n\u001b[0;32m--> 111\u001b[0;31m             \u001b[0mcolxn\u001b[0m\u001b[0;34m.\u001b[0m\u001b[0mwriterecords\u001b[0m\u001b[0;34m(\u001b[0m\u001b[0mdf\u001b[0m\u001b[0;34m.\u001b[0m\u001b[0miterfeatures\u001b[0m\u001b[0;34m(\u001b[0m\u001b[0;34m)\u001b[0m\u001b[0;34m)\u001b[0m\u001b[0;34m\u001b[0m\u001b[0m\n\u001b[0m\u001b[1;32m    112\u001b[0m \u001b[0;34m\u001b[0m\u001b[0m\n\u001b[1;32m    113\u001b[0m \u001b[0;34m\u001b[0m\u001b[0m\n",
      "\u001b[0;32m~/anaconda3/envs/cadenas/lib/python3.6/site-packages/fiona/collection.py\u001b[0m in \u001b[0;36mwriterecords\u001b[0;34m(self, records)\u001b[0m\n\u001b[1;32m    350\u001b[0m         \u001b[0;32mif\u001b[0m \u001b[0mself\u001b[0m\u001b[0;34m.\u001b[0m\u001b[0mmode\u001b[0m \u001b[0;32mnot\u001b[0m \u001b[0;32min\u001b[0m \u001b[0;34m(\u001b[0m\u001b[0;34m'a'\u001b[0m\u001b[0;34m,\u001b[0m \u001b[0;34m'w'\u001b[0m\u001b[0;34m)\u001b[0m\u001b[0;34m:\u001b[0m\u001b[0;34m\u001b[0m\u001b[0m\n\u001b[1;32m    351\u001b[0m             \u001b[0;32mraise\u001b[0m \u001b[0mIOError\u001b[0m\u001b[0;34m(\u001b[0m\u001b[0;34m\"collection not open for writing\"\u001b[0m\u001b[0;34m)\u001b[0m\u001b[0;34m\u001b[0m\u001b[0m\n\u001b[0;32m--> 352\u001b[0;31m         \u001b[0mself\u001b[0m\u001b[0;34m.\u001b[0m\u001b[0msession\u001b[0m\u001b[0;34m.\u001b[0m\u001b[0mwriterecs\u001b[0m\u001b[0;34m(\u001b[0m\u001b[0mrecords\u001b[0m\u001b[0;34m,\u001b[0m \u001b[0mself\u001b[0m\u001b[0;34m)\u001b[0m\u001b[0;34m\u001b[0m\u001b[0m\n\u001b[0m\u001b[1;32m    353\u001b[0m         \u001b[0mself\u001b[0m\u001b[0;34m.\u001b[0m\u001b[0m_len\u001b[0m \u001b[0;34m=\u001b[0m \u001b[0mself\u001b[0m\u001b[0;34m.\u001b[0m\u001b[0msession\u001b[0m\u001b[0;34m.\u001b[0m\u001b[0mget_length\u001b[0m\u001b[0;34m(\u001b[0m\u001b[0;34m)\u001b[0m\u001b[0;34m\u001b[0m\u001b[0m\n\u001b[1;32m    354\u001b[0m         \u001b[0mself\u001b[0m\u001b[0;34m.\u001b[0m\u001b[0m_bounds\u001b[0m \u001b[0;34m=\u001b[0m \u001b[0mself\u001b[0m\u001b[0;34m.\u001b[0m\u001b[0msession\u001b[0m\u001b[0;34m.\u001b[0m\u001b[0mget_extent\u001b[0m\u001b[0;34m(\u001b[0m\u001b[0;34m)\u001b[0m\u001b[0;34m\u001b[0m\u001b[0m\n",
      "\u001b[0;32mfiona/ogrext.pyx\u001b[0m in \u001b[0;36mfiona.ogrext.WritingSession.writerecs\u001b[0;34m()\u001b[0m\n",
      "\u001b[0;32mfiona/ogrext.pyx\u001b[0m in \u001b[0;36mfiona.ogrext.OGRFeatureBuilder.build\u001b[0;34m()\u001b[0m\n",
      "\u001b[0;31mValueError\u001b[0m: Invalid field type <class 'shapely.geometry.point.Point'>"
     ]
    }
   ],
   "source": [
    "sumas_acumuladas = solo_costos.iloc[:, solo_costos.columns.str.contains('costo_')].cumsum(axis=1)\n",
    "sumas_acumuladas = sumas_acumuladas.merge(solo_costos.iloc[:,[0,1]], left_index=True, right_index=True)\n",
    "sumas_acumuladas = gpd.GeoDataFrame(sumas_acumuladas, geometry = sumas_acumuladas.geom)\n",
    "sumas_acumuladas.to_file(driver= 'ESRI Shapefile', \n",
    "                         filename= \"/home/eurekastein/Documentos/cadenas.py/idw/result.shp\") "
   ]
  },
  {
   "cell_type": "code",
   "execution_count": 45,
   "metadata": {},
   "outputs": [
    {
     "name": "stdout",
     "output_type": "stream",
     "text": [
      "['gdal_grid', '-zfield', 'costo_tota', '-l', 'costo', '-a', 'invdist:power=2.0:smothing=0.0:radius1=0.0:radius2=0.0:angle=0.0:max_points=0:min_points=0:nodata=0.0', '-of', 'GTiff', '/home/eurekastein/Documentos/cadenas.py/idw/costocosto_etapa1_etapa2.shp', '/home/eurekastein/Documentos/cadenas.py/idw/costocosto_etapa1_etapa2.tif']\n",
      "La columna costo_etapa1_etapa2 no valió verga\n",
      "['gdal_grid', '-zfield', 'costo_tota', '-l', 'costo', '-a', 'invdist:power=2.0:smothing=0.0:radius1=0.0:radius2=0.0:angle=0.0:max_points=0:min_points=0:nodata=0.0', '-of', 'GTiff', '/home/eurekastein/Documentos/cadenas.py/idw/costocosto_etapa2_etapa3.shp', '/home/eurekastein/Documentos/cadenas.py/idw/costocosto_etapa2_etapa3.tif']\n",
      "La columna costo_etapa2_etapa3 no valió verga\n",
      "['gdal_grid', '-zfield', 'costo_tota', '-l', 'costo', '-a', 'invdist:power=2.0:smothing=0.0:radius1=0.0:radius2=0.0:angle=0.0:max_points=0:min_points=0:nodata=0.0', '-of', 'GTiff', '/home/eurekastein/Documentos/cadenas.py/idw/costocosto_etapa3_etapa4.shp', '/home/eurekastein/Documentos/cadenas.py/idw/costocosto_etapa3_etapa4.tif']\n",
      "La columna costo_etapa3_etapa4 no valió verga\n",
      "['gdal_grid', '-zfield', 'costo_tota', '-l', 'costo', '-a', 'invdist:power=2.0:smothing=0.0:radius1=0.0:radius2=0.0:angle=0.0:max_points=0:min_points=0:nodata=0.0', '-of', 'GTiff', '/home/eurekastein/Documentos/cadenas.py/idw/costocosto_etapa3_etapa4.shp', '/home/eurekastein/Documentos/cadenas.py/idw/costocosto_etapa3_etapa4.tif']\n",
      "La columna id_etapa1 no valió verga\n",
      "['gdal_grid', '-zfield', 'costo_tota', '-l', 'costo', '-a', 'invdist:power=2.0:smothing=0.0:radius1=0.0:radius2=0.0:angle=0.0:max_points=0:min_points=0:nodata=0.0', '-of', 'GTiff', '/home/eurekastein/Documentos/cadenas.py/idw/costocosto_etapa3_etapa4.shp', '/home/eurekastein/Documentos/cadenas.py/idw/costocosto_etapa3_etapa4.tif']\n",
      "La columna geom no valió verga\n",
      "['gdal_grid', '-zfield', 'costo_tota', '-l', 'costo', '-a', 'invdist:power=2.0:smothing=0.0:radius1=0.0:radius2=0.0:angle=0.0:max_points=0:min_points=0:nodata=0.0', '-of', 'GTiff', '/home/eurekastein/Documentos/cadenas.py/idw/costocosto_etapa3_etapa4.shp', '/home/eurekastein/Documentos/cadenas.py/idw/costocosto_etapa3_etapa4.tif']\n",
      "La columna geometry no valió verga\n"
     ]
    }
   ],
   "source": [
    "for columna in sumas_acumuladas:\n",
    "    if columna.startswith('costo_'):\n",
    "            comando = ['gdal_grid', '-zfield', 'costo_tota', '-l', 'costo', '-a',\n",
    "               'invdist:power=2.0:smothing=0.0:radius1=0.0:radius2=0.0:angle=0.0:max_points=0:min_points=0:nodata=0.0',\n",
    "               '-of', 'GTiff', '/home/eurekastein/Documentos/cadenas.py/idw/costo'+ columna+'.shp', \n",
    "               '/home/eurekastein/Documentos/cadenas.py/idw/costo'+ columna+'.tif']\n",
    "    try:\n",
    "        call(comando)\n",
    "        print(comando)\n",
    "    except:\n",
    "        print('valió verga')\n",
    "    print('La columna '+columna+' no valió verga')\n",
    "   "
   ]
  },
  {
   "cell_type": "markdown",
   "metadata": {},
   "source": [
    "Nuevo intento de IDW"
   ]
  },
  {
   "cell_type": "code",
   "execution_count": 33,
   "metadata": {},
   "outputs": [],
   "source": []
  },
  {
   "cell_type": "code",
   "execution_count": 31,
   "metadata": {},
   "outputs": [],
   "source": [
    "def readPoints(dataFile, Zfield='Z'):\n",
    "    data = {}\n",
    "    xv=[]\n",
    "    yv=[]\n",
    "    values=[]\n",
    "    ds = ogr.Open(dataFile)\n",
    "    if ds is None:\n",
    "       raise Exception('Could not open ' + dataFile)\n",
    "    \n",
    "    layer = ds.GetLayer()\n",
    "    proj = layer.GetSpatialRef()\n",
    "    extent = layer.GetExtent()\n",
    "\n",
    "    feature = layer.GetNextFeature()\n",
    "    if feature.GetFieldIndex(zField) == -1:\n",
    "         raise Exception('zField is not valid: ' + zField)\n",
    "\n",
    "    while feature:\n",
    "        geometry = feature.GetGeometryRef()\n",
    "        xv.append(geometry.GetX())\n",
    "        yv.append(geometry.GetY())\n",
    "        values.append(feature.GetField(zField))\n",
    "\n",
    "        feature = layer.GetNextFeature()\n",
    "    data['extent'] = extent \n",
    "    data['xv']=xv\n",
    "    data['yv']=yv\n",
    "    data['values']=values\n",
    "    data['proj'] = proj\n",
    "    ds = None\n",
    "    return data"
   ]
  }
 ],
 "metadata": {
  "kernelspec": {
   "display_name": "Python 3",
   "language": "python",
   "name": "python3"
  },
  "language_info": {
   "codemirror_mode": {
    "name": "ipython",
    "version": 3
   },
   "file_extension": ".py",
   "mimetype": "text/x-python",
   "name": "python",
   "nbconvert_exporter": "python",
   "pygments_lexer": "ipython3",
   "version": "3.6.6"
  }
 },
 "nbformat": 4,
 "nbformat_minor": 2
}
